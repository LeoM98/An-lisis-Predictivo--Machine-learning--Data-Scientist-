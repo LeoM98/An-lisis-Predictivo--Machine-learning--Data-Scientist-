{
 "cells": [
  {
   "cell_type": "markdown",
   "metadata": {},
   "source": [
    "## Librerias a utilizar"
   ]
  },
  {
   "cell_type": "code",
   "execution_count": 1,
   "metadata": {},
   "outputs": [],
   "source": [
    "import csv\n",
    "import pandas as pd\n",
    "import xml.etree.ElementTree as ET\n",
    "from os import scandir"
   ]
  },
  {
   "cell_type": "markdown",
   "metadata": {},
   "source": [
    "## Extrayendo los datos"
   ]
  },
  {
   "cell_type": "code",
   "execution_count": 2,
   "metadata": {
    "tags": []
   },
   "outputs": [],
   "source": [
    "def getData():\n",
    "\n",
    "  # Read the TXT file with the clasification of the user's names\n",
    "  usersClasification = pd.read_csv('truth.txt', sep=':::', header=None, engine='python')\n",
    "  usersClasification.columns = [\"User Name\", \"Type\", \"Gender\"]\n",
    "\n",
    "  print(\"Users clasification: \\n\\n{}\".format(usersClasification))\n",
    "\n",
    "  # Path of the XML files\n",
    "  path = 'pan19_author_profiling_training_es/'\n",
    "  \n",
    "  # Get all the names of the files in the path\n",
    "  files = [arch.name for arch in scandir(path) if arch.is_file()]\n",
    "\n",
    "  # Extract only the User name, without the file extension (.xml)\n",
    "  userNames = []\n",
    "  fileExtension = '.xml'\n",
    "  for fileName in files:\n",
    "    index = fileName.index(fileExtension)\n",
    "    userNames.append(fileName[:index])\n",
    "  \n",
    "  filesContent = []\n",
    "  key = ''\n",
    "  tweetsPerUser = {}\n",
    "  index = 0\n",
    "  \n",
    "  # Extract the data for each XML file and save it in a list (filesContent)\n",
    "  for arch in scandir(path):\n",
    "    if arch.is_file():\n",
    "      try:\n",
    "        # Read the info in each file\n",
    "        tree = ET.parse('pan19_author_profiling_training_es/{}'.format(arch.name))\n",
    "        root = tree.getroot()\n",
    "        \n",
    "        # Extract the info in each file\n",
    "        filesContent = [i.text for i in root.iter('document')]\n",
    "        \n",
    "        # Build a dictionay (Key[User name] | Value[tweets of the user])\n",
    "        key = userNames[index]\n",
    "        tweetsPerUser.setdefault(key, filesContent)\n",
    "        index += 1\n",
    "      except:\n",
    "        print(\"Error in the file: {}\".format(arch.name))\n",
    "\n",
    "  # Return a list with the clasification based on the User's names and a dictionary with the Tweets for each User\n",
    "  return usersClasification, tweetsPerUser"
   ]
  },
  {
   "cell_type": "markdown",
   "metadata": {},
   "source": [
    "## Clasificando a los usuarios"
   ]
  },
  {
   "cell_type": "code",
   "execution_count": 3,
   "metadata": {},
   "outputs": [],
   "source": [
    "def doComparations(usersClasification, tweetsPerUser):\n",
    "  finalClasification = {}\n",
    "  for user in range(len(usersClasification)):\n",
    "    for twitterUser in tweetsPerUser:\n",
    "      if(usersClasification['User Name'][user] == twitterUser):\n",
    "        # Key\n",
    "        userName = twitterUser\n",
    "        \n",
    "        # Value 1\n",
    "        tweets = tweetsPerUser[twitterUser] \n",
    "        \n",
    "        # Value 2\n",
    "        userType = usersClasification['Type'][user]\n",
    "        \n",
    "        # Value 3\n",
    "        userGender = usersClasification['Gender'][user]\n",
    "        \n",
    "        finalClasification.setdefault(userName, [tweets, userType, userGender])\n",
    "        \n",
    "  return finalClasification"
   ]
  },
  {
   "cell_type": "markdown",
   "metadata": {},
   "source": [
    "## Creando el archivo CSV"
   ]
  },
  {
   "cell_type": "code",
   "execution_count": 4,
   "metadata": {},
   "outputs": [],
   "source": [
    "def buildCSV(finalClasification):\n",
    "\n",
    "  # Build the CSV file\n",
    "  with open('Users_Clasifiaction.csv', 'w', newline='',encoding=\"utf-8\") as file:\n",
    "    writer = csv.writer(file, delimiter='|')\n",
    "    writer.writerow([\"User\", \"Type\", \"Tweets\"])\n",
    "    for user in finalClasification:\n",
    "      tweets = str(finalClasification[user][0])\n",
    "      if(finalClasification[user][1] == \"human\"):\n",
    "        writer.writerow([user, 1, tweets])\n",
    "      else:\n",
    "        writer.writerow([user, 0, tweets])"
   ]
  },
  {
   "cell_type": "markdown",
   "metadata": {},
   "source": [
    "## Función principal"
   ]
  },
  {
   "cell_type": "code",
   "execution_count": 5,
   "metadata": {
    "tags": []
   },
   "outputs": [
    {
     "name": "stdout",
     "output_type": "stream",
     "text": [
      "Users clasification: \n",
      "\n",
      "                             User Name   Type Gender\n",
      "0     acfdc9e43ed5efa10a903453261a3c12    bot    bot\n",
      "1     40adbb05f96fdd96f767b5967458faf1    bot    bot\n",
      "2      4aa2fb302140ec35cc6bc8a0d7d35f6    bot    bot\n",
      "3     58db587d884d22afefbcd37aa26af458    bot    bot\n",
      "4     dd9494d1bff7fa477cc03fea5294a510    bot    bot\n",
      "...                                ...    ...    ...\n",
      "2995   cc5432be0f89f59bb9a54a546a0a45b  human   male\n",
      "2996  7388a7fda44ec828643c1e6a60d16a31  human   male\n",
      "2997  72472a9c1db1190f972c0685c17e6967  human   male\n",
      "2998  fad9f50742fbb4754ffea1faed468450  human   male\n",
      "2999  de49aeb2e3b73a0204bd6f82bfa4b17d  human   male\n",
      "\n",
      "[3000 rows x 3 columns]\n",
      "Ejecución exitosa\n"
     ]
    }
   ],
   "source": [
    "if __name__=='__main__':\n",
    "  \n",
    "  # Get the data of the files\n",
    "  usersClasification, tweetsPerUser = getData()\n",
    "  finalClasification = doComparations(usersClasification, tweetsPerUser)\n",
    "  buildCSV(finalClasification)\n",
    "  print(\"Ejecución exitosa\")"
   ]
  }
 ],
 "metadata": {
  "kernelspec": {
   "display_name": "Python 3",
   "language": "python",
   "name": "python3"
  },
  "language_info": {
   "codemirror_mode": {
    "name": "ipython",
    "version": 3
   },
   "file_extension": ".py",
   "mimetype": "text/x-python",
   "name": "python",
   "nbconvert_exporter": "python",
   "pygments_lexer": "ipython3",
   "version": "3.8.5"
  }
 },
 "nbformat": 4,
 "nbformat_minor": 2
}
