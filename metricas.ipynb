{
 "cells": [
  {
   "cell_type": "code",
   "execution_count": 1,
   "metadata": {},
   "outputs": [],
   "source": [
    "import io\n",
    "import sys\n",
    "import os\n",
    "import spacy\n",
    "import numpy as np\n",
    "import pandas as pd\n",
    "import matplotlib.pyplot as plt\n",
    "import seaborn as sns\n",
    "from tqdm import tqdm\n",
    "from collections import Counter\n",
    "from imblearn.over_sampling import RandomOverSampler\n",
    "from utils.text_analysis import TextAnalysis\n",
    "from sklearn.feature_extraction.text import CountVectorizer\n",
    "from sklearn.feature_extraction.text import TfidfVectorizer\n",
    "from sklearn.model_selection import train_test_split\n",
    "from sklearn.linear_model import LogisticRegression \n",
    "from sklearn.model_selection import cross_val_score\n",
    "from sklearn.metrics import accuracy_score, recall_score, f1_score, precision_score\n",
    "from sklearn import metrics\n",
    "from sklearn.metrics import classification_report\n",
    "from sklearn.metrics import confusion_matrix"
   ]
  },
  {
   "cell_type": "code",
   "execution_count": 2,
   "metadata": {},
   "outputs": [
    {
     "name": "stdout",
     "output_type": "stream",
     "text": [
      "Error load_sapcy: [E050] Can't find model 'es_core_news_md'. It doesn't seem to be a shortcut link, a Python package or a valid path to a data directory.\n"
     ]
    }
   ],
   "source": [
    "#Llamadando a esta clase procedemos a predeterminar el lenguaje como español, el análisis se hará en español\n",
    "ta = TextAnalysis('es')"
   ]
  },
  {
   "cell_type": "markdown",
   "metadata": {},
   "source": [
    "## Lectura y observación de la generación de nuestro csv"
   ]
  },
  {
   "cell_type": "code",
   "execution_count": 3,
   "metadata": {},
   "outputs": [
    {
     "data": {
      "text/html": [
       "<div>\n",
       "<style scoped>\n",
       "    .dataframe tbody tr th:only-of-type {\n",
       "        vertical-align: middle;\n",
       "    }\n",
       "\n",
       "    .dataframe tbody tr th {\n",
       "        vertical-align: top;\n",
       "    }\n",
       "\n",
       "    .dataframe thead th {\n",
       "        text-align: right;\n",
       "    }\n",
       "</style>\n",
       "<table border=\"1\" class=\"dataframe\">\n",
       "  <thead>\n",
       "    <tr style=\"text-align: right;\">\n",
       "      <th></th>\n",
       "      <th>User</th>\n",
       "      <th>Type</th>\n",
       "      <th>Tweets</th>\n",
       "    </tr>\n",
       "  </thead>\n",
       "  <tbody>\n",
       "    <tr>\n",
       "      <th>0</th>\n",
       "      <td>acfdc9e43ed5efa10a903453261a3c12</td>\n",
       "      <td>0</td>\n",
       "      <td>['Ameniza la tarde con un poco de música en @S...</td>\n",
       "    </tr>\n",
       "    <tr>\n",
       "      <th>1</th>\n",
       "      <td>40adbb05f96fdd96f767b5967458faf1</td>\n",
       "      <td>0</td>\n",
       "      <td>['¡VIERNES! https://t.co/De3i7hWUbJ', '@JacobG...</td>\n",
       "    </tr>\n",
       "    <tr>\n",
       "      <th>2</th>\n",
       "      <td>4aa2fb302140ec35cc6bc8a0d7d35f6</td>\n",
       "      <td>0</td>\n",
       "      <td>['@mariafaber @ShiOque https://t.co/636iLpGRpt...</td>\n",
       "    </tr>\n",
       "    <tr>\n",
       "      <th>3</th>\n",
       "      <td>58db587d884d22afefbcd37aa26af458</td>\n",
       "      <td>0</td>\n",
       "      <td>['@elPixelPerdido 🤔  Nos das más info por MD?'...</td>\n",
       "    </tr>\n",
       "    <tr>\n",
       "      <th>4</th>\n",
       "      <td>dd9494d1bff7fa477cc03fea5294a510</td>\n",
       "      <td>0</td>\n",
       "      <td>['Tenemos el remedio perfecto para la depresió...</td>\n",
       "    </tr>\n",
       "  </tbody>\n",
       "</table>\n",
       "</div>"
      ],
      "text/plain": [
       "                               User  Type  \\\n",
       "0  acfdc9e43ed5efa10a903453261a3c12     0   \n",
       "1  40adbb05f96fdd96f767b5967458faf1     0   \n",
       "2   4aa2fb302140ec35cc6bc8a0d7d35f6     0   \n",
       "3  58db587d884d22afefbcd37aa26af458     0   \n",
       "4  dd9494d1bff7fa477cc03fea5294a510     0   \n",
       "\n",
       "                                              Tweets  \n",
       "0  ['Ameniza la tarde con un poco de música en @S...  \n",
       "1  ['¡VIERNES! https://t.co/De3i7hWUbJ', '@JacobG...  \n",
       "2  ['@mariafaber @ShiOque https://t.co/636iLpGRpt...  \n",
       "3  ['@elPixelPerdido 🤔  Nos das más info por MD?'...  \n",
       "4  ['Tenemos el remedio perfecto para la depresió...  "
      ]
     },
     "execution_count": 3,
     "metadata": {},
     "output_type": "execute_result"
    }
   ],
   "source": [
    "data_raw = pd.read_csv('Users_Clasifiaction.csv', sep='|')\n",
    "data_raw.head()"
   ]
  },
  {
   "cell_type": "markdown",
   "metadata": {},
   "source": [
    "## Erradicación de semejanzas en el diccionario"
   ]
  },
  {
   "cell_type": "code",
   "execution_count": 4,
   "metadata": {},
   "outputs": [
    {
     "name": "stderr",
     "output_type": "stream",
     "text": [
      "100%|█████████████████████████████████████████████████████████████████████████████| 3000/3000 [00:06<00:00, 431.91it/s]\n"
     ]
    }
   ],
   "source": [
    "setting = {'url': True, 'mention': True, 'emoji': True, 'hashtag': True, 'stopwords': False, 'relabel': True} \n",
    "list_sentences = []\n",
    "#Iterando con barra progresiva\n",
    "for row in tqdm(data_raw['Tweets'].to_list()):\n",
    "    #Erradicación mediante el metodo de clean_text\n",
    "    #Se pasa como parametro los Twetts existentes de nuestro csv y se comparan\n",
    "    text = ta.clean_text(row, **setting)\n",
    "    #print('Text org: {0} \\nTex clean: {1}'.format(row, text))\n",
    "    list_sentences.append(text)"
   ]
  },
  {
   "cell_type": "markdown",
   "metadata": {},
   "source": [
    "## Asignación de valores a nuestras variables a trabajar"
   ]
  },
  {
   "cell_type": "code",
   "execution_count": 5,
   "metadata": {},
   "outputs": [],
   "source": [
    "x = list_sentences\n",
    "y = data_raw['Type'].to_list()"
   ]
  },
  {
   "cell_type": "markdown",
   "metadata": {},
   "source": [
    "## Conteo de bots y personas reales"
   ]
  },
  {
   "cell_type": "code",
   "execution_count": 6,
   "metadata": {},
   "outputs": [
    {
     "name": "stdout",
     "output_type": "stream",
     "text": [
      "**Replica y_train: [(0, 1500), (1, 1500)]\n"
     ]
    }
   ],
   "source": [
    "print('**Replica y_train:', sorted(Counter(y).items()))"
   ]
  },
  {
   "cell_type": "markdown",
   "metadata": {},
   "source": [
    "## Entrenamiento del algoritmo con un tamaño de prueba del 30%"
   ]
  },
  {
   "cell_type": "code",
   "execution_count": 7,
   "metadata": {},
   "outputs": [
    {
     "name": "stdout",
     "output_type": "stream",
     "text": [
      "**Replica train: [(0, 1059), (1, 1041)], size 2100\n",
      "**Replica test: [(0, 441), (1, 459)], size 900\n"
     ]
    }
   ],
   "source": [
    "x_train, x_test, y_train, y_test = train_test_split(x, y, test_size=0.30, random_state=8675309)\n",
    "print('**Replica train: {0}, size {1}'.format(sorted(Counter(y_train).items()), len(y_train))) #70% para entrenar\n",
    "print('**Replica test: {0}, size {1}'.format(sorted(Counter(y_test).items()), len(y_test))) #30% para test"
   ]
  },
  {
   "cell_type": "markdown",
   "metadata": {},
   "source": [
    "# Features in Bag of Words"
   ]
  },
  {
   "cell_type": "code",
   "execution_count": 8,
   "metadata": {},
   "outputs": [],
   "source": [
    "#Determinando los valores del ngrama que va hasta 3grama, recibe los acentos, los pasa a minúsculas y analiza solo las palabras\n",
    "vec = CountVectorizer(min_df=5, ngram_range=(1,3), max_features=5000, strip_accents='unicode', lowercase =True, analyzer='word')\n",
    "vec.fit(x_train)#Ajusta los valores de los datos para poder obtener una mayor precisión\n",
    "\n",
    "#Transforma los valores manteniendo el margen del tamaño de el original\n",
    "x_train = vec.transform(x_train)\n",
    "x_test = vec.transform(x_test)"
   ]
  },
  {
   "cell_type": "code",
   "execution_count": 9,
   "metadata": {},
   "outputs": [
    {
     "name": "stdout",
     "output_type": "stream",
     "text": [
      "['abado', 'abajo', 'abierto', 'abogado', 'aborto', 'about', 'abrazo', 'abre', 'abril', 'abrir', 'abuela', 'abuso', 'abusos', 'aca', 'acaba', 'acaba de', 'acabar', 'acabo', 'acabo de', 'acaso', 'acceso', 'accidente', 'accidente de', 'accion', 'acciones', 'acerca', 'acevedo', 'acevedo pfeiffer', 'acevedo pfeiffer url', 'actitud', 'actividad', 'acto', 'actor', 'actos', 'actriz', 'actual', 'actuar', 'acuerdo', 'acuerdo con', 'acusa', 'adelante', 'ademas', 'adios', 'administracion', 'adventista', 'adventistas', 'adventistas cl', 'aeropuerto', 'afecta', 'aficogt', 'aficogt url', 'aficogt url reporte', 'afirma', 'afirma que', 'ag', 'agencia', 'agenda', 'agosto', 'agp', 'agp deportes', 'agp deportes url', 'agresion', 'agua', 'ah', 'ahi', 'ahora', 'ahora que', 'ahora si', 'ahorras', 'ahorras eur', 'ahorras eur emoji', 'ahre', 'aire', 'aires', 'al', 'al de', 'al de san', 'al final', 'al gobierno', 'al hashtag', 'al lado', 'al menos', 'al mention', 'al mundo', 'al no', 'al no de', 'al pais', 'al pueblo', 'al que', 'al techo', 'al techo si', 'alberto', 'album', 'alcalde', 'alcalde de', 'alcanza', 'alcohol', 'alegria', 'alejandro', 'alemania', 'alerta', 'alfa', 'algo', 'algo de', 'algo que', 'alguien', 'alguien que', 'alguien url', 'alguien url hashtag', 'algun', 'algun dia', 'alguna', 'alguna vez', 'algunas', 'algunos', 'alianza', 'alimentos', 'all', 'alla', 'alli', 'alma', 'alonso', 'alta', 'alto', 'altura', 'alumnos', 'alvarez', 'alza', 'am', 'ama', 'amar', 'amarillo', 'ambos', 'amen', 'amen nevangelista', 'amen nevangelista juan', 'amenaza', 'america', 'amiga', 'amigas', 'amigo', 'amigos', 'amigos de', 'amistad', 'amlo', 'amo', 'amor', 'amor de', 'amor es', 'amp', 'an', 'ana', 'analisis', 'analista', 'and', 'anda', 'andalucia', 'andar', 'andres', 'android', 'angel', 'angeles', 'animal', 'animales', 'animo', 'aniversario', 'ano', 'ano de', 'ano en', 'ano nuevo', 'ano url', 'anoche', 'anos', 'anos de', 'anos del', 'anos en', 'anos nestado', 'anos nestado civil', 'anos que', 'anos url', 'ante', 'ante el', 'ante la', 'antes', 'antes de', 'antonio', 'anuncia', 'anuncio', 'aparece', 'aparecido', 'aparecido cerca', 'aparecido cerca de', 'apartamento', 'apartamento en', 'apartamento en venta', 'apenas', 'aplicacion', 'aplicaciones', 'aplicaciones noticias', 'aplicaciones noticias no', 'apoyar', 'apoyo', 'app', 'apple', 'aprende', 'aprender', 'aprueba', 'apuesta', 'aquel', 'aquellos', 'aqui', 'aqui url', 'arbol', 'arcangel', 'are', 'area', 'argentina', 'argentina de', 'argentino', 'argentinos', 'arma', 'armas', 'arriba', 'arriendo', 'arriendo en', 'arte', 'articulo', 'artista', 'as', 'asamblea', 'asco', 'asegura', 'asegura que', 'aseguro', 'asesinato', 'asesinato de', 'asesino', 'asesinos', 'asi', 'asi como', 'asi de', 'asi es', 'asi que', 'asi se', 'asociacion', 'asturias', 'at', 'ataque', 'ataques', 'atencion', 'atentado', 'atletico', 'atraco', 'atraco en', 'atraco url', 'atraco url rt', 'atras', 'audiencia', 'audio', 'aumento', 'aun', 'aun no', 'aunque', 'aunque vengan', 'aunque vengan degollando', 'australia', 'auto', 'automatically', 'automatically checked', 'automatically checked by', 'automatico', 'automatico mention', 'automatico mention conoces', 'autor', 'autoridades', 'av', 'avenida', 'avion', 'aviso', 'ay', 'ayer', 'ayuda', 'ayudar', 'ayuntamiento', 'ayuntamiento de', 'azul', 'bachelet', 'back', 'baja', 'bajar', 'bajara', 'bajo', 'banca', 'banco', 'bancos', 'banda', 'bandera', 'bar', 'barack', 'barack obama', 'barca', 'barcelona', 'barcelona url', 'barrio', 'base', 'base de', 'base de datos', 'basta', 'bastante', 'basura', 'batalla', 'be', 'bebe', 'bella', 'belleza', 'bello', 'beso', 'besos', 'best', 'bien', 'big', 'bio', 'black', 'blanca', 'blanco', 'bob', 'boca', 'bogota', 'bogota url', 'bolivar', 'bolivia', 'bolsa', 'bomba', 'bomberos', 'bonita', 'bonito', 'bosque', 'boy', 'brasil', 'bravo', 'breve', 'brexit', 'bsf', 'bts', 'buen', 'buen dia', 'buena', 'buenas', 'buenas noches', 'bueno', 'bueno hashtag', 'bueno hashtag hashtag', 'bueno que', 'buenos', 'buenos dias', 'bus', 'busca', 'busca desarrollador', 'buscan', 'buscando', 'buscando un', 'buscar', 'buscara', 'buscara subira', 'buscas', 'busqueda', 'but', 'by', 'by hashtag', 'by hashtag via', 'by url', 'ca', 'cabello', 'cabeza', 'cada', 'cada dia', 'cada uno', 'cada vez', 'cada vez que', 'cadena', 'cae', 'cae llegara', 'caer', 'cafe', 'caida', 'caja', 'cali', 'calidad', 'california', 'calle', 'calles', 'calor', 'cama', 'camara', 'cambia', 'cambiar', 'cambio', 'cambio de', 'cambios', 'cambios en', 'cambios en la', 'caminar', 'camino', 'camiseta', 'campana', 'campana de', 'campeon', 'campo', 'can', 'canada', 'canal', 'cancer', 'cancha', 'cancion', 'canciones', 'candidata', 'candidato', 'candidatos', 'cantando', 'cantante', 'cantar', 'cantidad', 'capacidad', 'capaz', 'capaz de', 'capital', 'capitulo', 'cara', 'cara de', 'carabineros', 'caracas', 'caracter', 'carcel', 'carga', 'cargo', 'carino', 'carlos', 'carlos acevedo', 'carlos acevedo pfeiffer', 'carmen', 'carne', 'carrera', 'carta', 'casa', 'casa de', 'casa en', 'casa en venta', 'casado', 'casado nocupacion', 'casas', 'casi', 'caso', 'caso de', 'caso ncaratula', 'casos', 'castillo', 'castro', 'catalan', 'cataluna', 'catrillanca', 'causa', 'cayo', 'cc', 'celebra', 'celebrar', 'celular', 'central', 'centro', 'centro de', 'cerca', 'cerca de', 'cerca de avenida', 'cerca del', 'cerca del piso', 'cercano', 'cercano al', 'cercano al techo', 'cerebro', 'cero', 'cerrar', 'cesar', 'chaco', 'chaco ncompra', 'chaco ncompra venta', 'champions', 'chance', 'chavez', 'checked', 'checked by', 'checked by url', 'chica', 'chicas', 'chico', 'chicos', 'chile', 'chile url', 'chilena', 'chileno', 'chilenos', 'china', 'chino', 'ciclista', 'cielo', 'ciencia', 'ciento', 'cientos', 'cierra', 'cierre', 'cierto', 'cinco', 'cine', 'cita', 'city', 'ciudad', 'ciudad de', 'ciudad de mexico', 'ciudad que', 'ciudad que solicitas', 'ciudadano', 'ciudadanos', 'ciudades', 'civil', 'civil casado', 'civil casado nocupacion', 'cl', 'claro', 'claro que', 'clase', 'clases', 'clasico', 'clave', 'claves', 'clinton', 'club', 'co', 'coche', 'coches', 'cocina', 'codigo', 'cola', 'colegio', 'colombia', 'colombiano', 'colombianos', 'color', 'colores', 'columna', 'com', 'come', 'comentarios', 'comenzo', 'comer', 'comercial', 'comercio', 'comida', 'comienza', 'comision', 'comision de', 'como', 'como el', 'como el olor', 'como el sabor', 'como el sentir', 'como el sonido', 'como en', 'como es', 'como hoy', 'como la', 'como lo', 'como los', 'como me', 'como no', 'como que', 'como se', 'como si', 'como siempre', 'como tu', 'como un', 'como una', 'como yo', 'companeros', 'companeros que', 'companeros que siguen', 'compania', 'comparte', 'compartir', 'comparto', 'completa', 'completo', 'compra', 'comprar', 'compromiso', 'comun', 'comunicacion', 'comunicado', 'comunicado de', 'comunidad', 'con', 'con el', 'con el perfil', 'con epicentro', 'con epicentro km', 'con esta', 'con este', 'con experiencia', 'con hashtag', 'con la', 'con las', 'con lo', 'con los', 'con mas', 'con mention', 'con mention mention', 'con mi', 'con que', 'con quien', 'con rt', 'con su', 'con sus', 'con todo', 'con tu', 'con un', 'con una', 'con url', 'conciencia', 'conciente', 'concierto', 'concurso', 'condena', 'condici', 'condici oacuten', 'condici oacuten fair', 'condici oacuten parcialmente', 'condiciones', 'conductor', 'conferencia', 'confianza', 'confirma', 'conflicto', 'congreso', 'conmigo', 'cono', 'conoce', 'conocer', 'conoces', 'conoces url', 'conoces url aplicaciones', 'conocido', 'conozco', 'conseguir', 'consejo', 'consejo de', 'consejos', 'consigue', 'constitucion', 'constitucional', 'construccion', 'construir', 'consulta', 'consumo', 'contacto', 'contaminacion', 'contar', 'contigo', 'continua', 'contra', 'contra de', 'contra el', 'contra la', 'contra los', 'contrario', 'contrato', 'control', 'convierte', 'copa', 'copa del', 'corazon', 'cordoba', 'corea', 'corrupcion', 'corrupto', 'corruptos', 'corte', 'corto', 'cosa', 'cosas', 'cosas que', 'costa', 'crea', 'creacion', 'crear', 'crece', 'crecimiento', 'cree', 'cree que', 'creen', 'creen que', 'creer', 'creer que', 'crees', 'creo', 'creo que', 'crimen', 'crisis', 'cristiano', 'cristina', 'critica', 'criticas', 'cruz', 'cual', 'cual es', 'cuales', 'cualquier', 'cualquiera', 'cuando', 'cuando el', 'cuando la', 'cuando me', 'cuando no', 'cuando se', 'cuando te', 'cuantas', 'cuanto', 'cuantos', 'cuarto', 'cuatro', 'cuba', 'cuenta', 'cuenta de', 'cuenta que', 'cuentas', 'cuento', 'cuerpo', 'cuesta', 'cuestion', 'cuidado', 'culo', 'culpa', 'cultura', 'cultural', 'cumple', 'cumpleanos', 'cumplen', 'cumples', 'cumples con', 'cumplir', 'cup', 'cura', 'curso', 'cursos', 'cv', 'cv emoji', 'cv emoji emoji', 'da', 'da la', 'da rt', 'daddy', 'dado', 'daily', 'daily esta', 'daily esta disponible', 'dalai', 'dalai lama', 'dalai lama la', 'dale', 'dan', 'dando', 'daniel', 'dano', 'dano moral', 'dano moral nind', 'dar', 'darle', 'das', 'date', 'date prisa', 'datos', 'datos de', 'david', 'day', 'de', 'de abril', 'de acuerdo', 'de acuerdo con', 'de agosto', 'de agua', 'de alguien', 'de alguien url', 'de amor', 'de ano', 'de anos', 'de avenida', 'de ayer', 'de barcelona', 'de cada', 'de chile', 'de colombia', 'de como', 'de comunicacion', 'de con', 'de con epicentro', 'de corrupcion', 'de datos', 'de de', 'de diciembre', 'de dios', 'de dolares', 'de donde', 'de dos', 'de el', 'de ellos', 'de emoji', 'de empleo', 'de en', 'de enero', 'de esa', 'de ese', 'de eso', 'de espana', 'de esta', 'de estado', 'de estados', 'de estados unidos', 'de estar', 'de este', 'de estos', 'de eu', 'de euros', 'de febrero', 'de forma', 'de futbol', 'de genero', 'de gobierno', 'de google', 'de haber', 'de hacer', 'de harry', 'de harry potter', 'de hashtag', 'de hashtag de', 'de hashtag en', 'de hashtag hashtag', 'de hashtag url', 'de hoy', 'de juego', 'de jujuy', 'de jujuy registrado', 'de julio', 'de junio', 'de justicia', 'de la', 'de la ciudad', 'de la hashtag', 'de la historia', 'de la mano', 'de la mention', 'de la muerte', 'de la oferta', 'de la republica', 'de la semana', 'de la vida', 'de las', 'de las cosas', 'de lo', 'de lo que', 'de los', 'de los que', 'de madrid', 'de maduro', 'de manera', 'de marzo', 'de mas', 'de mayo', 'de mention', 'de mention en', 'de mention hashtag', 'de mention mention', 'de mention para', 'de mention rt', 'de mention url', 'de mexico', 'de mi', 'de mi vida', 'de mierda', 'de miguel', 'de mil', 'de millones', 'de millones de', 'de mis', 'de moda', 'de nada', 'de navidad', 'de no', 'de noviembre', 'de nuestra', 'de nuestro', 'de nuestros', 'de nueva', 'de nuevo', 'de octubre', 'de oro', 'de paz', 'de personas', 'de pesos', 'de podemos', 'de poder', 'de por', 'de prensa', 'de que', 'de quien', 'de reyes', 'de rt', 'de rt mention', 'de salud', 'de san', 'de san juan', 'de san salvador', 'de seguridad', 'de semana', 'de septiembre', 'de ser', 'de su', 'de sus', 'de tener', 'de ti', 'de todas', 'de todas las', 'de todo', 'de todos', 'de todos los', 'de trabajo', 'de transito', 'de tres', 'de trump', 'de tu', 'de tus', 'de un', 'de un atraco', 'de una', 'de unas', 'de uno', 'de unos', 'de url', 'de url hashtag', 'de valencia', 'de venezuela', 'de ver', 'de verdad', 'de vida', 'debajo', 'debajo del', 'debate', 'debe', 'debe ser', 'debemos', 'deben', 'deberia', 'deberian', 'debes', 'debido', 'debo', 'debut', 'decia', 'decir', 'decir que', 'decision', 'decisiones', 'declara', 'declaracion', 'declaraciones', 'defender', 'defensa', 'defensa de', 'defiende', 'degollando', 'degollando mention', 'degollando mention gracias', 'deja', 'deja de', 'dejado', 'dejan', 'dejar', 'dejar de', 'deje', 'dejen', 'dejes', 'dejo', 'del', 'del ano', 'del congreso', 'del de', 'del dia', 'del dolar', 'del estado', 'del festival', 'del futbol', 'del gobierno', 'del hashtag', 'del mention', 'del mundial', 'del mundo', 'del mundo url', 'del nino', 'del norte', 'del pais', 'del partido', 'del piso', 'del piso si', 'del pp', 'del presidente', 'del psoe', 'del pueblo', 'del real', 'del sistema', 'del sur', 'del trafico', 'del trafico hashtag', 'del url', 'delante', 'delincuente', 'delincuentes', 'delito', 'delitos', 'demanda', 'demas', 'demasiado', 'dembow', 'democracia', 'demuestra', 'den', 'dentro', 'dentro de', 'denuncia', 'departamento', 'departamento en', 'depende', 'deporte', 'deportes', 'deportes url', 'deportivo', 'derecha', 'derecho', 'derechos', 'derechos humanos', 'derrota', 'des', 'desaparece', 'desaparece las', 'desaparece las hrs', 'desarrollador', 'desarrollo', 'desastre', 'descarga', 'descargar', 'descubre', 'desde', 'desde el', 'desde hace', 'desde la', 'desde que', 'deseo', 'despejado', 'despejado hashtag', 'despejado hashtag hashtag', 'despertar', 'despues', 'despues de', 'destino', 'detalles', 'detalles de', 'detalles de la', 'detencion', 'detenido', 'detenidos', 'detienen', 'detras', 'detras de', 'deuda', 'developer', 'di', 'dia', 'dia como', 'dia de', 'dia de la', 'dia del', 'dia en', 'dia para', 'dia que', 'dia url', 'dialogo', 'diario', 'dias', 'dias de', 'dias en', 'dias para', 'diaz', 'dice', 'dice que', 'dicen', 'dicen que', 'dices', 'dicho', 'diciembre', 'diciendo', 'dictadura', 'diego', 'dieron', 'diez', 'diferencia', 'diferente', 'diferentes', 'dificil', 'difunde', 'difunde si', 'difunde si sabes', 'difunde url', 'difunde url hashtag', 'difundir', 'diga', 'digan', 'digital', 'dignidad', 'digo', 'dije', 'dijeron', 'dijo', 'dijo que', 'dime', 'dinero', 'dio', 'dios', 'diputado', 'diputados', 'direccion', 'directo', 'directo url', 'director', 'director de', 'disco', 'discurso', 'diseno', 'disfrutar', 'disponible', 'disponible url', 'disponible url gracias', 'distancia', 'do', 'doble', 'doctor', 'dolar', 'dolares', 'dolor', 'domingo', 'don', 'donald', 'donald trump', 'donde', 'donde esta', 'donde se', 'dormir', 'dos', 'dos anos', 'download', 'doy', 'drogas', 'duda', 'dudas', 'duele', 'duque', 'dura', 'durante', 'durante el', 'durante la', 'duro', 'echa', 'echa un', 'economia', 'economica', 'economico', 'ecuador', 'edad', 'edicion', 'edificio', 'edo', 'educacion', 'ee', 'ee uu', 'eeuu', 'efe', 'efecto', 'eh', 'ejemplo', 'ejercicio', 'ejercito', 'el', 'el agua', 'el alfa', 'el alma', 'el amor', 'el ano', 'el ayuntamiento', 'el cambio', 'el camino', 'el caso', 'el centro', 'el centro de', 'el cielo', 'el congreso', 'el corazon', 'el cuerpo', 'el de', 'el de los', 'el de octubre', 'el debate', 'el derecho', 'el dia', 'el dia de', 'el dinero', 'el director', 'el domingo', 'el equipo', 'el estado', 'el ex', 'el exito', 'el festival', 'el fin', 'el fin de', 'el fiscal', 'el futbol', 'el futuro', 'el gobierno', 'el gobierno de', 'el gran', 'el grupo', 'el hashtag', 'el hombre', 'el juego', 'el jueves', 'el juez', 'el libro', 'el lunes', 'el mas', 'el mayor', 'el mayor clasico', 'el mejor', 'el mention', 'el mercado', 'el ministro', 'el mismo', 'el momento', 'el mundial', 'el mundo', 'el no', 'el nombre', 'el nuevo', 'el numero', 'el observador', 'el olor', 'el olor de', 'el otro', 'el pais', 'el papa', 'el paro', 'el partido', 'el partido de', 'el pasado', 'el perfil', 'el plan', 'el poder', 'el por', 'el pp', 'el precio', 'el precio del', 'el presidente', 'el presidente de', 'el primer', 'el problema', 'el programa', 'el proximo', 'el proyecto', 'el psoe', 'el pueblo', 'el que', 'el resto', 'el rey', 'el rt', 'el rt mention', 'el sabado', 'el sabor', 'el sabor de', 'el sector', 'el segundo', 'el senado', 'el senor', 'el sentir', 'el sentir de', 'el sistema', 'el sol', 'el sonido', 'el sonido de', 'el tema', 'el tiempo', 'el trabajo', 'el tuyo', 'el ultimo', 'el unico', 'el url', 'el url hashtag', 'el uso', 'el video', 'el viernes', 'eleccion', 'elecciones', 'electoral', 'electricas', 'electricas hashtag', 'electricas hashtag hashtag', 'elegir', 'ella', 'ellas', 'ello', 'ellos', 'embargo', 'emergencia', 'emoji', 'emoji ahorras', 'emoji ahorras eur', 'emoji el', 'emoji emoji', 'emoji emoji emoji', 'emoji emoji hashtag', 'emoji emoji mention', 'emoji emoji oferta', 'emoji emoji precio', 'emoji emoji rt', 'emoji emoji ud', 'emoji emoji url', 'emoji en', 'emoji enlace', 'emoji enlace url', 'emoji hashtag', 'emoji hashtag emoji', 'emoji hashtag hashtag', 'emoji hashtag url', 'emoji la', 'emoji me', 'emoji mention', 'emoji mention emoji', 'emoji mention mention', 'emoji no', 'emoji oferta', 'emoji precio', 'emoji precio eur', 'emoji que', 'emoji rt', 'emoji rt mention', 'emoji ud', 'emoji ud emoji', 'emoji ud url', 'emoji url', 'emoji url emoji', 'emoji url hashtag', 'emoji url mention', 'emoji url rt', 'emoji url url', 'empezar', 'empezo', 'empieza', 'empleados', 'empleo', 'empleos', 'empresa', 'empresario', 'empresarios', 'empresas', 'en', 'en abril', 'en adventistas', 'en adventistas cl', 'en anos', 'en argentina', 'en arriendo', 'en arriendo en', 'en barcelona', 'en bogota', 'en bogota url', 'en casa', 'en chile', 'en colombia', 'en contra', 'en contra de', 'en cuenta', 'en directo', 'en directo url', 'en dos', 'en el', 'en el centro', 'en el hashtag', 'en el mention', 'en el mundo', 'en el pais', 'en el que', 'en el url', 'en ese', 'en espana', 'en esta', 'en estados', 'en este', 'en estos', 'en facebook', 'en hashtag', 'en hashtag difunde', 'en hashtag es', 'en hashtag hashtag', 'en hashtag url', 'en la', 'en la calle', 'en la gueya', 'en la hashtag', 'en la que', 'en la vida', 'en las', 'en lo', 'en lo que', 'en los', 'en lugar', 'en madrid', 'en medio', 'en medio de', 'en mention', 'en mention url', 'en mexico', 'en mi', 'en nuestra', 'en nuestra base', 'en nuestro', 'en pleno', 'en que', 'en realidad', 'en rt', 'en rt mention', 'en san', 'en santa', 'en serio', 'en sevilla', 'en su', 'en sus', 'en telegram', 'en telegram url', 'en ti', 'en todo', 'en todos', 'en tu', 'en twitter', 'en un', 'en una', 'en url', 'en url hashtag', 'en url rt', 'en venezuela', 'en venta', 'en venta en', 'en vez', 'en vez de', 'en vinilo', 'en vinilo por', 'en vivo', 'en zona', 'en zona de', 'encanta', 'encima', 'encontrado', 'encontrar', 'encontrar en', 'encontrar en nuestra', 'encuentra', 'encuentran', 'encuentro', 'encuesta', 'end', 'ends', 'energia', 'enero', 'enfermedad', 'engineer', 'enlace', 'enlace url', 'enlace url url', 'enorme', 'enrique', 'ensenada', 'entender', 'enter', 'entero', 'entiende', 'entiendo', 'entonces', 'entra', 'entra en', 'entrada', 'entradas', 'entrar', 'entrar en', 'entre', 'entre el', 'entre la', 'entre las', 'entre los', 'entrega', 'entrenador', 'entrevista', 'entro', 'envia', 'envia tu', 'enviar', 'epicentro', 'epicentro km', 'epicentro km al', 'epoca', 'equipo', 'equipo de', 'equipos', 'er', 'era', 'era el', 'era un', 'eran', 'eres', 'error', 'errores', 'es', 'es cierto', 'es como', 'es de', 'es el', 'es en', 'es hashtag', 'es la', 'es lo', 'es lo que', 'es mas', 'es mejor', 'es mi', 'es muy', 'es necesario', 'es para', 'es por', 'es porque', 'es posible', 'es que', 'es que no', 'es rt', 'es rt mention', 'es solo', 'es su', 'es tan', 'es todo', 'es tu', 'es un', 'es una', 'es uno', 'es url', 'esa', 'esa es', 'esas', 'escandalo', 'escena', 'escenario', 'escribe', 'escribir', 'escrita', 'escrita no', 'escrita no la', 'escritor', 'escucha', 'escuchando', 'escuchar', 'escuela', 'ese', 'esfuerzo', 'eso', 'eso es', 'eso no', 'eso que', 'esos', 'espacio', 'espana', 'espana hashtag', 'espana hashtag hashtag', 'espana url', 'espanol', 'espanola', 'espanoles', 'especial', 'espera', 'esperamos', 'esperan', 'esperando', 'esperanza', 'esperar', 'espero', 'espero que', 'espiritu', 'esposa', 'est', 'esta', 'esta bien', 'esta buscando', 'esta cerca', 'esta cerca del', 'esta disponible', 'esta disponible url', 'esta el', 'esta en', 'esta en telegram', 'esta es', 'esta es la', 'esta hora', 'esta la', 'esta mal', 'esta mal escrita', 'esta manana', 'esta noche', 'esta semana', 'esta tarde', 'estaba', 'estaban', 'estacion', 'estadio', 'estado', 'estado de', 'estados', 'estados unidos', 'estadounidense', 'estamos', 'estamos en', 'estan', 'estan en', 'estar', 'estar en', 'estara', 'estaria', 'estas', 'este', 'este ano', 'este de', 'este domingo', 'este es', 'este es el', 'este jueves', 'este lunes', 'este pais', 'este sabado', 'este video', 'este viernes', 'esten', 'estilo', 'esto', 'esto es', 'esto no', 'esto url', 'estos', 'estoy', 'estoy en', 'estrategia', 'estrella', 'estrellas', 'estreno', 'estudiantes', 'estudiar', 'estudio', 'estudios', 'estuvo', 'etapa', 'etc', 'eterno', 'eu', 'eur', 'eur emoji', 'eur emoji ahorras', 'eur emoji enlace', 'eur precio', 'eur precio de', 'euro', 'europa', 'europea', 'europeo', 'euros', 'evento', 'eventos', 'evitar', 'ex', 'excelente', 'exico', 'existe', 'existen', 'exito', 'experiencia', 'expertos', 'explica', 'explosion', 'expresion', 'extrano', 'fa', 'face', 'facebook', 'facil', 'fair', 'fair mas', 'fair mas tarde', 'fallece', 'falso', 'falta', 'falta de', 'faltan', 'falto', 'familia', 'familiar', 'familiares', 'familias', 'fan', 'farc', 'farruko', 'fase', 'favor', 'favor de', 'favoritos', 'fe', 'febrero', 'fecha', 'federal', 'felices', 'felicidad', 'felicidades', 'felicitaciones', 'felipe', 'feliz', 'feliz cumpleanos', 'feliz dia', 'femenino', 'feo', 'feria', 'fernandez', 'fernando', 'festival', 'fiesta', 'fiestas', 'fifa', 'figura', 'fin', 'fin de', 'fin de semana', 'final', 'final de', 'final de la', 'final del', 'finalmente', 'firma', 'first', 'fiscal', 'fiscalia', 'fisica', 'flor', 'flores', 'florida', 'follow', 'follow automatico', 'follow automatico mention', 'follow me', 'followed', 'followed me', 'follower', 'followers', 'fondo', 'fondos', 'for', 'for the', 'forma', 'forma de', 'formacion', 'formas', 'foro', 'foto', 'foto de', 'fotos', 'fotos de', 'fracaso', 'frances', 'francia', 'francisco', 'franco', 'frase', 'frases', 'fraude', 'frente', 'frente al', 'frente la', 'frio', 'from', 'frontera', 'ft', 'fue', 'fue el', 'fue la', 'fue un', 'fue una', 'fuego', 'fuente', 'fuera', 'fuera de', 'fueron', 'fuerte', 'fuertes', 'fuerza', 'fuerzas', 'fui', 'full', 'full stack', 'funcion', 'funciona', 'funcionarios', 'futbol', 'futuro', 'gabriel', 'gala', 'galaxy', 'gamers', 'gamers daily', 'gamers daily esta', 'gana', 'ganado', 'ganador', 'ganar', 'ganas', 'ganas de', 'gane', 'gano', 'garcia', 'gas', 'gasolina', 'gastos', 'gastos medicos', 'gato', 'gay', 'generacion', 'general', 'general de', 'genero', 'genial', 'gente', 'gente de', 'gente que', 'george', 'gestion', 'get', 'gira', 'giveaway', 'giveaway emoji', 'global', 'gloria', 'go', 'gobernador', 'gobierno', 'gobierno de', 'gol', 'gol de', 'goles', 'golpe', 'gonzalez', 'good', 'google', 'gracias', 'gracias mention', 'gracias mention mention', 'gracias por', 'gracias por seguirme', 'gracias vos', 'gracias vos todos', 'grados', 'grados en', 'grados en hashtag', 'grados url', 'gran', 'granada', 'grande', 'grandes', 'gratis', 'grave', 'gris', 'grupo', 'grupo de', 'grupos', 'gt', 'gt gt', 'gt url', 'gt url rt', 'guardia', 'guerra', 'gueya', 'gueya aunque', 'gueya aunque vengan', 'guia', 'gusta', 'gustan', 'gustaria', 'gusto', 'ha', 'ha aparecido', 'ha aparecido cerca', 'ha hecho', 'ha pasado', 'ha sido', 'haber', 'habia', 'habian', 'habla', 'habla de', 'hablan', 'hablando', 'hablando de', 'hablar', 'hablar de', 'hable', 'hablo', 'habra', 'habria', 'hace', 'hace anos', 'hace falta', 'hace un', 'hace unos', 'hacemos', 'hacen', 'hacer', 'hacer el', 'hacer un', 'hacerlo', 'haces', 'hacia', 'hacia el', 'haciendo', 'haga', 'hagan', 'hago', 'hambre', 'han', 'han sido', 'hara', 'harry', 'harry potter', 'has', 'hashtag', 'hashtag abado', 'hashtag aficogt', 'hashtag aficogt url', 'hashtag al', 'hashtag apartamento', 'hashtag apartamento en', 'hashtag asi', 'hashtag casa', 'hashtag casa en', 'hashtag como', 'hashtag con', 'hashtag con mention', 'hashtag de', 'hashtag de hashtag', 'hashtag de mention', 'hashtag del', 'hashtag departamento', 'hashtag departamento en', 'hashtag difunde', 'hashtag difunde si', 'hashtag difunde url', 'hashtag el', 'hashtag emoji', 'hashtag emoji emoji', 'hashtag emoji url', 'hashtag en', 'hashtag en el', 'hashtag en hashtag', 'hashtag en url', 'hashtag es', 'hashtag es de', 'hashtag esta', 'hashtag exico', 'hashtag hashtag', 'hashtag hashtag aficogt', 'hashtag hashtag emoji', 'hashtag hashtag en', 'hashtag hashtag hashtag', 'hashtag hashtag info', 'hashtag hashtag las', 'hashtag hashtag mention', 'hashtag hashtag min', 'hashtag hashtag rt', 'hashtag hashtag se', 'hashtag hashtag url', 'hashtag hoy', 'hashtag https', 'hashtag https rt', 'hashtag ia', 'hashtag inf', 'hashtag info', 'hashtag info url', 'hashtag la', 'hashtag las', 'hashtag las hay', 'hashtag ll', 'hashtag lo', 'hashtag los', 'hashtag mar', 'hashtag mas', 'hashtag mas en', 'hashtag me', 'hashtag mention', 'hashtag mention gracias', 'hashtag mention hashtag', 'hashtag mention mention', 'hashtag mention rt', 'hashtag mention url', 'hashtag min', 'hashtag min max', 'hashtag muere', 'hashtag na', 'hashtag no', 'hashtag nos', 'hashtag on', 'hashtag para', 'hashtag por', 'hashtag que', 'hashtag rt', 'hashtag rt mention', 'hashtag se', 'hashtag se busca', 'hashtag se solicita', 'hashtag si', 'hashtag te', 'hashtag the', 'hashtag tts', 'hashtag tts espana', 'hashtag un', 'hashtag una', 'hashtag url', 'hashtag url el', 'hashtag url emoji', 'hashtag url hashtag', 'hashtag url la', 'hashtag url mention', 'hashtag url no', 'hashtag url rt', 'hashtag url url', 'hashtag url via', 'hashtag via', 'hashtag via mention', 'hashtag ya', 'hasta', 'hasta anos', 'hasta el', 'hasta la', 'hasta que', 'have', 'hay', 'hay gente', 'hay grados', 'hay grados en', 'hay nada', 'hay que', 'hay un', 'hay una', 'haya', 'haz', 'he', 'he visto', 'hecho', 'hechos', 'hemos', 'her', 'herido', 'heridos', 'hermana', 'hermano', 'hermanos', 'hermosa', 'hermoso', 'heroico', 'heroico salvo', 'heroico salvo mujer', 'hice', 'hicieron', 'hija', 'hijo', 'hijo de', 'hijos', 'hijos de', 'hilo', 'historia', 'historia de', 'historias', 'historico', 'hizo', 'hogar', 'hola', 'hombre', 'hombre que', 'hombres', 'homenaje', 'honor', 'hora', 'hora de', 'horario', 'horas', 'horas de', 'hospital', 'hotel', 'how', 'hoy', 'hoy de', 'hoy en', 'hoy en hashtag', 'hoy es', 'hoy hashtag', 'hoy la', 'hoy no', 'hoy se', 'hrs', 'hrs url', 'hrs url un', 'hs', 'ht', 'ht rt', 'ht rt mention', 'htc', 'htt', 'htt rt', 'htt rt mention', 'http', 'http rt', 'http rt mention', 'https', 'https rt', 'https rt mention', 'huawei', 'hubiera', 'hubo', 'huelga', 'hugo', 'humana', 'humanidad', 'humano', 'humanos', 'humo', 'humor', 'ia', 'iba', 'idea', 'idea de', 'ideas', 'ido', 'if', 'iglesia', 'iglesias', 'ignorancia', 'igual', 'igual que', 'ii', 'ilegal', 'imagen', 'imagen de', 'imagenes', 'imagenes de', 'imagenes del', 'imanes', 'impacto', 'importa', 'importancia', 'importante', 'importantes', 'imposible', 'impuestos', 'impunidad', 'in', 'in the', 'inc', 'inc sobreviniente', 'inc sobreviniente nind', 'incendio', 'incluso', 'increible', 'ind', 'independencia', 'industria', 'inf', 'infantil', 'infierno', 'inflacion', 'info', 'info url', 'info url se', 'informacion', 'informe', 'informo', 'ingeniero', 'ingles', 'inicia', 'iniciativa', 'inicio', 'inicio de', 'inmigrantes', 'inscribete', 'inscribete emoji', 'inscribete emoji emoji', 'instagram', 'instituciones', 'inteligencia', 'inteligente', 'intentar', 'intento', 'interes', 'interesa', 'interesante', 'interesante esta', 'interesante esta cerca', 'interior', 'internacional', 'internacional de', 'internet', 'intervencion', 'inversion', 'investiga', 'investigacion', 'invierno', 'invitacion', 'invito', 'ios', 'ipad', 'iphone', 'ir', 'ir al', 'ira', 'iran', 'irse', 'is', 'isabel', 'isla', 'israel', 'it', 'italia', 'ivan', 'izquierda', 'ja', 'ja ja', 'jaja', 'jajaja', 'jajajaj', 'jajajaja', 'jajajajaja', 'jajajajajaja', 'jamas', 'james', 'japon', 'jardin', 'java', 'javier', 'jean', 'jefe', 'jefe de', 'jesus', 'john', 'jorge', 'jornada', 'jornada de', 'jose', 'joven', 'jovenes', 'juan', 'juan carlos', 'juan carlos acevedo', 'juan registrado', 'juan registrado las', 'judicial', 'jueces', 'juega', 'juego', 'juego de', 'juegos', 'jueves', 'juez', 'jugador', 'jugadores', 'jugando', 'jugar', 'juicio', 'jujuy', 'jujuy registrado', 'jujuy registrado las', 'julio', 'junio', 'junior', 'junta', 'junto', 'juntos', 'juro', 'just', 'justicia', 'justo', 'juventud', 'kim', 'km', 'km al', 'km al de', 'km al no', 'know', 'la', 'la asamblea', 'la cabeza', 'la calle', 'la cama', 'la camara', 'la campana', 'la cara', 'la carcel', 'la carrera', 'la casa', 'la ciudad', 'la ciudad de', 'la ciudad que', 'la clase', 'la comision', 'la compra', 'la comunidad', 'la constitucion', 'la consulta', 'la copa', 'la corrupcion', 'la crisis', 'la cuenta', 'la de', 'la defensa', 'la democracia', 'la derecha', 'la dictadura', 'la economia', 'la educacion', 'la empresa', 'la escuela', 'la esperanza', 'la falta', 'la falta de', 'la familia', 'la felicidad', 'la final', 'la fiscalia', 'la forma', 'la foto', 'la frase', 'la frontera', 'la fuerza', 'la gente', 'la gente que', 'la gran', 'la guardia', 'la guerra', 'la gueya', 'la gueya aunque', 'la hashtag', 'la hashtag en', 'la historia', 'la historia de', 'la hora', 'la hora de', 'la idea', 'la iglesia', 'la imagen', 'la independencia', 'la informacion', 'la izquierda', 'la jornada', 'la justicia', 'la lengua', 'la ley', 'la ley de', 'la libertad', 'la libertad de', 'la liga', 'la lista', 'la lista de', 'la lluvia', 'la lucha', 'la luna', 'la luz', 'la madre', 'la manana', 'la mano', 'la marcha', 'la mas', 'la mayor', 'la mayoria', 'la mayoria de', 'la mejor', 'la mention', 'la mesa', 'la misma', 'la mitad', 'la mitad de', 'la muerte', 'la muerte de', 'la mujer', 'la musica', 'la noche', 'la nueva', 'la oferta', 'la oferta de', 'la oferta eur', 'la onu', 'la oposicion', 'la otra', 'la palabra', 'la para', 'la patria', 'la paz', 'la pelicula', 'la pena', 'la persona', 'la pizarra', 'la plaza', 'la policia', 'la politica', 'la prensa', 'la presentacion', 'la presidencia', 'la presidenta', 'la primera', 'la proxima', 'la pudimos', 'la pudimos encontrar', 'la puerta', 'la que', 'la razon', 'la realidad', 'la red', 'la reforma', 'la region', 'la republica', 'la respuesta', 'la revolucion', 'la rt', 'la rt mention', 'la salud', 'la segunda', 'la seguridad', 'la seleccion', 'la semana', 'la senda', 'la senda trazada', 'la serie', 'la situacion', 'la sociedad', 'la tarde', 'la television', 'la temporada', 'la tierra', 'la ue', 'la ultima', 'la unica', 'la unidad', 'la union', 'la universidad', 'la url', 'la url hashtag', 'la venta', 'la verdad', 'la via', 'la victoria', 'la vida', 'la vida de', 'la vida es', 'la violencia', 'la voz', 'la vuelta', 'la zona', 'laboral', 'laborar', 'lado', 'lagrimas', 'lama', 'lama la', 'lanza', 'lanzamiento', 'lapiz', 'lapiz conciente', 'larga', 'largo', 'las', 'las am', 'las autoridades', 'las calles', 'las cosas', 'las cosas que', 'las de', 'las dos', 'las elecciones', 'las empresas', 'las farc', 'las hashtag', 'las hay', 'las hay grados', 'las hrs', 'las hrs url', 'las imagenes', 'las manos', 'las mejores', 'las mujeres', 'las ofertas', 'las palabras', 'las personas', 'las personas que', 'las que', 'las redes', 'las redes sociales', 'las ultimas', 'las url', 'las url sismo', 'las url url', 'las victimas', 'last', 'lastima', 'latina', 'le', 'le da', 'le gusta', 'leche', 'lectura', 'led', 'lee', 'leer', 'legal', 'lejos', 'lengua', 'lenguaje', 'leo', 'leon', 'les', 'ley', 'ley de', 'leyendo', 'leyes', 'lg', 'libertad', 'libertad de', 'libertadores', 'libre', 'libres', 'libro', 'libro de', 'libros', 'lider', 'lideres', 'life', 'liga', 'like', 'lima', 'limite', 'linda', 'lindo', 'linea', 'lista', 'lista de', 'listo', 'live', 'll', 'llama', 'llamado', 'llaman', 'llamar', 'llamo', 'llega', 'llegada', 'llegado', 'llegan', 'llegar', 'llegara', 'llego', 'llegue', 'llena', 'llena de', 'lleno', 'lleno de', 'lleva', 'llevan', 'llevar', 'llevo', 'llorar', 'lluvia', 'lo', 'lo bueno', 'lo de', 'lo hace', 'lo mas', 'lo mejor', 'lo mejor de', 'lo mismo', 'lo peor', 'lo perdiste', 'lo perdiste esta', 'lo que', 'lo que es', 'lo que me', 'lo que no', 'lo que se', 'lo que te', 'lo unico', 'lo unico que', 'loca', 'local', 'loco', 'locura', 'logra', 'lograr', 'logro', 'londres', 'lopez', 'los', 'los angeles', 'los anos', 'los ciudadanos', 'los companeros', 'los companeros que', 'los de', 'los demas', 'los derechos', 'los dias', 'los dos', 'los espanoles', 'los hashtag', 'los hombres', 'los juegos', 'los mas', 'los medios', 'los mejores', 'los mismos', 'los momentos', 'los ninos', 'los nuevos', 'los ojos', 'los paises', 'los partidos', 'los premios', 'los primeros', 'los problemas', 'los que', 'los reyes', 'los rt', 'los trabajadores', 'los ultimos', 'los url', 'los venezolanos', 'love', 'lpm', 'lt', 'lucha', 'luchar', 'luego', 'luego de', 'lugar', 'lugar de', 'lugares', 'luis', 'luna', 'lunes', 'luz', 'ma', 'macri', 'madre', 'madrid', 'madrid url', 'madrugada', 'maduro', 'maestro', 'mag', 'magia', 'magos', 'mail', 'mal', 'mal escrita', 'mal escrita no', 'mala', 'malaga', 'malas', 'malo', 'malos', 'maluma', 'mama', 'mami', 'man', 'manager', 'manana', 'manda', 'manda tu', 'manda tu cv', 'mando', 'manera', 'manera de', 'mano', 'manos', 'mantener', 'mantiene', 'manuel', 'mar', 'marca', 'marcha', 'marco', 'margen', 'maria', 'mario', 'marron', 'marta', 'martes', 'martin', 'martinez', 'marzo', 'mas', 'mas alla', 'mas de', 'mas en', 'mas en url', 'mas grande', 'mas que', 'mas tarde', 'mas tarde bueno', 'mas tarde parcialmente', 'mas tarde tormentas', 'mas url', 'masculino', 'mata', 'matan', 'matar', 'materia', 'mato', 'matrimonio', 'max', 'max condici', 'max condici oacuten', 'maximo', 'mayo', 'mayor', 'mayor clasico', 'mayores', 'mayoria', 'mayoria de', 'me', 'me automatically', 'me automatically checked', 'me da', 'me dijo', 'me encanta', 'me gusta', 'me ha', 'me hace', 'me han', 'me he', 'me la', 'me lo', 'me parece', 'me siento', 'me sigues', 'me voy', 'medellin', 'media', 'medico', 'medicos', 'medida', 'medidas', 'medio', 'medio de', 'medios', 'mega', 'mejor', 'mejor de', 'mejor que', 'mejorar', 'mejores', 'memoria', 'mendoza', 'menor', 'menores', 'menos', 'menos de', 'mensaje', 'mensajes', 'mente', 'mention', 'mention ahora', 'mention al', 'mention aqui', 'mention asi', 'mention asi es', 'mention atencion', 'mention buen', 'mention bueno', 'mention buenos', 'mention cada', 'mention claro', 'mention com', 'mention como', 'mention con', 'mention con mention', 'mention conoces', 'mention conoces url', 'mention creo', 'mention creo que', 'mention cuando', 'mention de', 'mention desde', 'mention donde', 'mention el', 'mention emoji', 'mention emoji emoji', 'mention emoji url', 'mention en', 'mention en el', 'mention en hashtag', 'mention en la', 'mention en mention', 'mention es', 'mention eso', 'mention esta', 'mention esta buscando', 'mention estamos', 'mention estas', 'mention este', 'mention este es', 'mention esto', 'mention estoy', 'mention estreno', 'mention feliz', 'mention gracias', 'mention gracias por', 'mention gracias vos', 'mention hace', 'mention hashtag', 'mention hashtag el', 'mention hashtag emoji', 'mention hashtag en', 'mention hashtag hashtag', 'mention hashtag la', 'mention hashtag mention', 'mention hashtag rt', 'mention hashtag url', 'mention hasta', 'mention hay', 'mention hola', 'mention hoy', 'mention https', 'mention in', 'mention jajaja', 'mention jajajaja', 'mention jajajajaja', 'mention la', 'mention las', 'mention le', 'mention les', 'mention lo', 'mention lo que', 'mention los', 'mention manana', 'mention mas', 'mention me', 'mention mention', 'mention mention el', 'mention mention emoji', 'mention mention en', 'mention mention es', 'mention mention gracias', 'mention mention hashtag', 'mention mention la', 'mention mention lo', 'mention mention los', 'mention mention me', 'mention mention mention', 'mention mention no', 'mention mention por', 'mention mention que', 'mention mention rt', 'mention mention se', 'mention mention si', 'mention mention url', 'mention mention ya', 'mention mention yo', 'mention mi', 'mention mientras', 'mention muchas', 'mention muchas gracias', 'mention muy', 'mention nahuatl', 'mention nahuatl word', 'mention ni', 'mention no', 'mention no es', 'mention no hay', 'mention no me', 'mention no se', 'mention no te', 'mention nos', 'mention nunca', 'mention ojala', 'mention para', 'mention para que', 'mention pero', 'mention perro', 'mention perro heroico', 'mention por', 'mention por favor', 'mention por que', 'mention porque', 'mention pues', 'mention que', 'mention queremos', 'mention quien', 'mention quiero', 'mention rt', 'mention rt mention', 'mention se', 'mention si', 'mention si no', 'mention siempre', 'mention sin', 'mention sobre', 'mention solo', 'mention son', 'mention soy', 'mention te', 'mention tengo', 'mention the', 'mention todo', 'mention todos', 'mention tu', 'mention un', 'mention una', 'mention url', 'mention url el', 'mention url hashtag', 'mention url mention', 'mention url rt', 'mention url url', 'mention url video', 'mention vamos', 'mention ver', 'mention video', 'mention video el', 'mention ya', 'mention yo', 'mentira', 'mentiras', 'mercado', 'merece', 'mes', 'mes de', 'mesa', 'meses', 'messi', 'meta', 'metro', 'metros', 'mexicana', 'mexicano', 'mexicanos', 'mexico', 'mexico url', 'mi', 'mi amor', 'mi casa', 'mi corazon', 'mi mama', 'mi me', 'mi vida', 'mia', 'miami', 'michael', 'miedo', 'miembros', 'mientras', 'miercoles', 'mierda', 'miguel', 'miguel angel', 'mil', 'miles', 'miles de', 'militar', 'militares', 'millon', 'millones', 'millones de', 'millones de dolares', 'millones de euros', 'min', 'min max', 'min max condici', 'mina', 'mini', 'minimo', 'ministerio', 'ministra', 'ministro', 'ministro de', 'minuto', 'minutos', 'mio', 'mira', 'mirada', 'mirar', 'miren', 'mis', 'mision', 'misma', 'mismo', 'mismo que', 'mismos', 'miss', 'mitad', 'mitad de', 'moda', 'modelo', 'modo', 'momento', 'momento de', 'momentos', 'moneda', 'morado', 'moral', 'moral nind', 'moral nind total', 'morales', 'more', 'moreno', 'morir', 'motivo', 'moto', 'movil', 'movimiento', 'mozart', 'mucha', 'mucha experiencia', 'muchachos', 'muchas', 'muchas cosas', 'muchas gracias', 'mucho', 'mucho mas', 'mucho que', 'muchos', 'muere', 'mueren', 'muero', 'muerte', 'muerte de', 'muerto', 'muertos', 'muestra', 'mujer', 'mujer de', 'mujer de un', 'mujer que', 'mujeres', 'mundial', 'mundial de', 'mundo', 'mundo de', 'mundo url', 'municipio', 'murio', 'museo', 'music', 'musica', 'musical', 'muy', 'muy bien', 'muy cercano', 'muy cercano al', 'mx', 'my', 'na', 'nace', 'nacio', 'nacion', 'nacional', 'nacional de', 'nada', 'nada de', 'nada mas', 'nada que', 'nadal', 'nadie', 'nahuatl', 'nahuatl word', 'nahuatl word of', 'nalberdi', 'nalberdi ncompra', 'nalberdi ncompra venta', 'namen', 'namen amen', 'namen amen nevangelista', 'naranja', 'natural', 'naturaleza', 'navidad', 'ncambios', 'ncambios chaco', 'ncambios chaco ncompra', 'ncaracter', 'ncaratula', 'ncompra', 'ncompra venta', 'ncompra venta nalberdi', 'ncompra venta ncambios', 'ncompra venta nmaxicambios', 'nde', 'ne', 'necesario', 'necesidad', 'necesidad de', 'necesita', 'necesitamos', 'necesitan', 'necesitas', 'necesito', 'nedad', 'nedad anos', 'nedad anos nestado', 'negocio', 'negro', 'nel', 'nen', 'nes', 'nestado', 'nestado civil', 'netflix', 'nevangelista', 'nevangelista juan', 'nevangelista juan carlos', 'new', 'nexus', 'nfecha', 'nfecha nsala', 'nfecha nsala ncaracter', 'ni', 'ni la', 'ni se', 'ni se realizara', 'ni siquiera', 'ni un', 'nicolas', 'nicolas maduro', 'niega', 'nieto', 'nieve', 'nina', 'ninas', 'ninc', 'ninc fisica', 'nind', 'nind dano', 'nind dano moral', 'nind inc', 'nind inc sobreviniente', 'nind total', 'ningun', 'ninguna', 'ninguno', 'nino', 'ninos', 'nivel', 'nivel de', 'nla', 'nlo', 'nlos', 'nmaxicambios', 'nmaxicambios ncompra', 'nmaxicambios ncompra venta', 'nme', 'nno', 'no', 'no creo', 'no de', 'no de san', 'no dejes', 'no entiendo', 'no era', 'no es', 'no es el', 'no es la', 'no es un', 'no esta', 'no estoy', 'no existe', 'no fue', 'no ha', 'no hay', 'no hay nada', 'no importa', 'no la', 'no la pudimos', 'no le', 'no les', 'no lo', 'no los', 'no mas', 'no me', 'no mention', 'no no', 'no nos', 'no podemos', 'no por', 'no puede', 'no pueden', 'no puedes', 'no puedo', 'no quiere', 'no quiero', 'no recibiras', 'no recibiras reply', 'no rt', 'no rt mention', 'no sabe', 'no saben', 'no se', 'no se puede', 'no se que', 'no se si', 'no sea', 'no solo', 'no son', 'no soy', 'no te', 'no tengo', 'no tiene', 'no tienen', 'no url', 'no va', 'nobel', 'nobel de', 'noche', 'noche de', 'noches', 'nochevieja', 'nocupacion', 'nokia', 'nombre', 'nombre de', 'normal', 'norte', 'nos', 'nosotros', 'not', 'nota', 'note', 'noticia', 'noticias', 'noticias no', 'noticias no recibiras', 'novela', 'novia', 'noviembre', 'novio', 'now', 'npero', 'npor', 'nque', 'nrt', 'nsala', 'nsala ncaracter', 'nse', 'nsexo', 'nsi', 'nte', 'nte lo', 'nte lo perdiste', 'nthe', 'nthe post', 'nublado', 'nublado hashtag', 'nublado hashtag hashtag', 'nublado mas', 'nublado mas tarde', 'nuestra', 'nuestra base', 'nuestra base de', 'nuestras', 'nuestro', 'nuestro pais', 'nuestros', 'nueva', 'nueva york', 'nuevamente', 'nuevas', 'nueve', 'nuevo', 'nuevos', 'nuevos seguidores', 'numero', 'numero de', 'nun', 'nunca', 'nunca se', 'ny', 'nyo', 'oacuten', 'oacuten fair', 'oacuten fair mas', 'oacuten parcialmente', 'oacuten parcialmente nublado', 'obama', 'objetivo', 'obra', 'obras', 'observador', 'obvio', 'ocho', 'octubre', 'ocurre', 'odebrecht', 'odio', 'of', 'of the', 'of the week', 'oferta', 'oferta de', 'oferta de hashtag', 'oferta eur', 'oferta eur emoji', 'ofertas', 'ofertas de', 'ofertas de hashtag', 'official', 'official video', 'official video url', 'oficial', 'oficial url', 'oficial url unete', 'oficina', 'ofrece', 'oh', 'ojala', 'ojo', 'ojos', 'ok', 'olor', 'olor de', 'olor de unos', 'olvida', 'olvidar', 'olvido', 'on', 'on hashtag', 'once', 'onda', 'one', 'one person', 'online', 'onu', 'opcion', 'open', 'operacion', 'opinion', 'oportunidad', 'oportunidad de', 'oportunidades', 'oposicion', 'or', 'orden', 'organiza', 'organizacion', 'orgullo', 'origen', 'original', 'orlando', 'oro', 'ortega', 'os', 'oscar', 'otra', 'otra vez', 'otras', 'otro', 'otros', 'our', 'out', 'oye', 'pa', 'pablo', 'paciencia', 'pacientes', 'pacto', 'padre', 'padres', 'paga', 'pagar', 'pagina', 'pago', 'pais', 'pais url', 'paises', 'palabra', 'palabras', 'pan', 'pantalla', 'papa', 'papas', 'papel', 'par', 'par de', 'para', 'para el', 'para el de', 'para este', 'para evitar', 'para hacer', 'para hashtag', 'para hoy', 'para ir', 'para la', 'para las', 'para los', 'para mention', 'para mi', 'para no', 'para poder', 'para que', 'para que no', 'para ser', 'para su', 'para tener', 'para ti', 'para todos', 'para un', 'para una', 'para ver', 'paraguay', 'parar', 'parcialmente', 'parcialmente nublado', 'parcialmente nublado hashtag', 'parcialmente nublado mas', 'parece', 'parece que', 'parecen', 'parecer', 'pareja', 'paris', 'parlamento', 'paro', 'parque', 'parte', 'parte de', 'parte del', 'partes', 'participa', 'participacion', 'participar', 'partido', 'partido de', 'partidos', 'partir', 'partir de', 'pasa', 'pasado', 'pasan', 'pasando', 'pasar', 'pase', 'pasion', 'paso', 'pasos', 'past', 'past day', 'patria', 'paul', 'paz', 'pedido', 'pedir', 'pedro', 'pedro sanchez', 'pega', 'pelicula', 'peliculas', 'peligro', 'pelo', 'pelota', 'pena', 'pena nieto', 'penal', 'pensamiento', 'pensamientos', 'pensando', 'pensar', 'pensar que', 'pense', 'pensiones', 'people', 'peor', 'pequena', 'pequeno', 'pequenos', 'per', 'perder', 'perdida', 'perdido', 'perdiendo', 'perdio', 'perdiste', 'perdiste esta', 'perdiste esta en', 'perdon', 'perez', 'perfecta', 'perfecto', 'perfil', 'perfil laboral', 'periodismo', 'periodista', 'periodistas', 'permite', 'pero', 'pero con', 'pero de', 'pero el', 'pero en', 'pero es', 'pero la', 'pero lo', 'pero me', 'pero no', 'pero que', 'pero si', 'perro', 'perro heroico', 'perro heroico salvo', 'perros', 'person', 'persona', 'persona que', 'personajes', 'personal', 'personas', 'personas en', 'personas que', 'peru', 'pesar', 'pesar de', 'pese', 'peso', 'pesos', 'petro', 'pfeiffer', 'pfeiffer url', 'photo', 'php', 'pide', 'piden', 'pidio', 'pido', 'pie', 'piedra', 'piel', 'piensa', 'piensan', 'pienso', 'pierdas', 'pierde', 'pies', 'pinche', 'pinera', 'piso', 'piso si', 'piso si rebota', 'pizarra', 'placer', 'plan', 'plan de', 'planes', 'planeta', 'planta', 'plata', 'plataforma', 'play', 'playa', 'plaza', 'plaza de', 'please', 'plena', 'pleno', 'pm', 'po', 'poblacion', 'pobre', 'pobres', 'pobreza', 'pocas', 'poco', 'poco de', 'pocos', 'podemos', 'poder', 'podes', 'podia', 'podra', 'podria', 'podrian', 'poeta', 'polemica', 'policia', 'policial', 'policias', 'politica', 'politicas', 'politico', 'politicos', 'pone', 'ponen', 'poner', 'pongo', 'popular', 'por', 'por ahi', 'por ciento', 'por el', 'por eso', 'por favor', 'por fin', 'por hashtag', 'por la', 'por la senda', 'por las', 'por lo', 'por lo que', 'por los', 'por mas', 'por mention', 'por mention url', 'por mi', 'por no', 'por parte', 'por primera', 'por primera vez', 'por que', 'por que no', 'por san', 'por seguirme', 'por seguirme en', 'por ser', 'por si', 'por su', 'por sus', 'por ti', 'por todo', 'por tu', 'por un', 'por una', 'por url', 'porque', 'porque el', 'porque la', 'porque no', 'portada', 'posible', 'post', 'potter', 'pp', 'pr', 'practica', 'pre', 'precio', 'precio de', 'precio de la', 'precio del', 'precio eur', 'precio eur emoji', 'precio eur precio', 'precios', 'precisa', 'precisan', 'prefiero', 'pregunta', 'preguntas', 'pregunto', 'premio', 'premios', 'prensa', 'prepara', 'presencia', 'presenta', 'presentacion', 'presentacion de', 'presente', 'presento', 'presidencia', 'presidencial', 'presidenta', 'presidente', 'presidente de', 'presidente de la', 'presidente del', 'presion', 'preso', 'presos', 'presupuesto', 'preview', 'preview url', 'preview url unete', 'pri', 'primer', 'primer ministro', 'primera', 'primera vez', 'primeras', 'primero', 'primeros', 'primeros rt', 'princesa', 'principal', 'principales', 'principio', 'prisa', 'prision', 'pro', 'problema', 'problemas', 'proceso', 'proceso de', 'produccion', 'producto', 'productos', 'profesional', 'profesionales', 'profesor', 'programa', 'programa de', 'programador', 'pronto', 'propia', 'propio', 'propone', 'proposito', 'propuesta', 'propuestas', 'proteccion', 'protesta', 'protestas', 'proxima', 'proximo', 'proyecto', 'proyecto de', 'proyectos', 'prueba', 'pruebas', 'psiquica', 'psoe', 'publica', 'publicado', 'publicas', 'publicidad', 'publico', 'publicos', 'pudimos', 'pudimos encontrar', 'pudimos encontrar en', 'pudo', 'pueblo', 'pueblos', 'pueda', 'puede', 'puede ser', 'pueden', 'puedes', 'puedo', 'puente', 'puerta', 'puertas', 'puerto', 'pues', 'puesta', 'puesto', 'puestos', 'puigdemont', 'punta', 'punto', 'punto de', 'puntos', 'pura', 'puro', 'puso', 'puta', 'qu', 'que', 'que ahora', 'que al', 'que alguien', 'que con', 'que cuando', 'que de', 'que dice', 'que dios', 'que el', 'que en', 'que era', 'que eres', 'que es', 'que es el', 'que es un', 'que esta', 'que estan', 'que estas', 'que este', 'que estoy', 'que fue', 'que ha', 'que hace', 'que hacen', 'que hacer', 'que han', 'que hashtag', 'que hay', 'que haya', 'que he', 'que hemos', 'que hoy', 'que la', 'que la gente', 'que las', 'que le', 'que les', 'que lindo', 'que lo', 'que los', 'que mas', 'que me', 'que mention', 'que mi', 'que nadie', 'que ni', 'que no', 'que no es', 'que no me', 'que no se', 'que no te', 'que nos', 'que nunca', 'que pasa', 'que paso', 'que por', 'que puede', 'que quiere', 'que rt', 'que rt mention', 'que se', 'que sea', 'que ser', 'que sera', 'que si', 'que siempre', 'que siguen', 'que siguen por', 'que solicitas', 'que solicitas esta', 'que solo', 'que son', 'que soy', 'que su', 'que tal', 'que te', 'que tenemos', 'que tengo', 'que tiene', 'que tienen', 'que todo', 'que todos', 'que tu', 'que un', 'que una', 'que uno', 'que url', 'que va', 'que ver', 'que viene', 'que ya', 'que ya no', 'que yo', 'queda', 'quedan', 'quedar', 'quede', 'quedo', 'queremos', 'querer', 'queres', 'queria', 'querido', 'quien', 'quien es', 'quien no', 'quien se', 'quienes', 'quiera', 'quieras', 'quiere', 'quieren', 'quieres', 'quiero', 'quiero que', 'quimico', 'quisiera', 'quizas', 'radio', 'rafael', 'rajoy', 'rapido', 'raro', 'rato', 'razon', 'razones', 're', 'reaccion', 'real', 'real madrid', 'realidad', 'realizara', 'realizara follow', 'realizara follow automatico', 'realmente', 'rebota', 'rebota buscara', 'rebota buscara subira', 'rechaza', 'rechazo', 'recibe', 'recibir', 'recibiras', 'recibiras reply', 'recibiras reply veces', 'recien', 'recomendado', 'recomiendo', 'reconoce', 'record', 'recordar', 'recuerda', 'recuerdo', 'recuerdos', 'recupera', 'recuperar', 'recursos', 'red', 'redes', 'redes sociales', 'reforma', 'reformas', 'refugiados', 'regalo', 'regalos', 'reggae', 'regimen', 'region', 'registrado', 'registrado las', 'registrado las url', 'registro', 'regresa', 'regreso', 'reina', 'reino', 'reir', 'relacion', 'relaciones', 'remix', 'renta', 'renuncia', 'reply', 'reply veces', 'reply veces ni', 'reporte', 'reporte del', 'reporte del trafico', 'representa', 'republica', 'requiere', 'rescate', 'reserva', 'reservadas', 'reservadas emoji', 'reservadas emoji emoji', 'respecto', 'respeto', 'responde', 'responsabilidad', 'responsable', 'respuesta', 'resto', 'resulta', 'resultado', 'resultados', 'resumen', 'reto', 'retweet', 'retwitteado', 'reunion', 'revela', 'revolucion', 'rey', 'reyes', 'rica', 'ricardo', 'rico', 'riesgo', 'riesgo de', 'rio', 'risa', 'river', 'rivera', 'robar', 'roberto', 'robo', 'rodriguez', 'roja', 'rojo', 'rompe', 'ropa', 'rosa', 'roto', 'rt', 'rt los', 'rt mention', 'rt mention ahora', 'rt mention al', 'rt mention aqui', 'rt mention asi', 'rt mention como', 'rt mention con', 'rt mention cuando', 'rt mention de', 'rt mention desde', 'rt mention el', 'rt mention emoji', 'rt mention en', 'rt mention es', 'rt mention esta', 'rt mention este', 'rt mention esto', 'rt mention estoy', 'rt mention feliz', 'rt mention gracias', 'rt mention hashtag', 'rt mention hay', 'rt mention hola', 'rt mention hoy', 'rt mention la', 'rt mention las', 'rt mention lo', 'rt mention los', 'rt mention manana', 'rt mention mas', 'rt mention me', 'rt mention mention', 'rt mention mi', 'rt mention nahuatl', 'rt mention no', 'rt mention nos', 'rt mention nunca', 'rt mention para', 'rt mention perro', 'rt mention por', 'rt mention que', 'rt mention quien', 'rt mention quiero', 'rt mention rt', 'rt mention se', 'rt mention si', 'rt mention solo', 'rt mention soy', 'rt mention te', 'rt mention the', 'rt mention todo', 'rt mention todos', 'rt mention un', 'rt mention una', 'rt mention url', 'rt mention video', 'rt mention ya', 'rt mention yo', 'rt rt', 'rt te', 'rueda', 'rueda de', 'rueda de prensa', 'rumbo', 'rusia', 'ruta', 'sabado', 'sabe', 'sabe que', 'sabemos', 'sabemos que', 'saben', 'saber', 'saber que', 'sabes', 'sabes de', 'sabes de alguien', 'sabes que', 'sabia', 'sabias', 'sabor', 'sabor de', 'sabor de unos', 'saca', 'sacar', 'saco', 'sala', 'salario', 'sale', 'salen', 'salida', 'salio', 'salir', 'salir de', 'salta', 'salud', 'saludos', 'salvador', 'salvador de', 'salvador de jujuy', 'salvaje', 'salvaje ha', 'salvaje ha aparecido', 'salvar', 'salvo', 'salvo mujer', 'salvo mujer de', 'samsung', 'samsung galaxy', 'san', 'san juan', 'san juan registrado', 'san salvador', 'san salvador de', 'sanchez', 'sanciones', 'sangre', 'santa', 'santiago', 'santo', 'santo domingo', 'santos', 'se', 'se busca', 'se busca desarrollador', 'se da', 'se debe', 'se encuentra', 'se esta', 'se fue', 'se ha', 'se hace', 'se han', 'se la', 'se le', 'se les', 'se llama', 'se lo', 'se me', 'se precisa', 'se puede', 'se pueden', 'se que', 'se queda', 'se realizara', 'se realizara follow', 'se si', 'se siente', 'se solicita', 'se te', 'se trata', 'se trata de', 'se url', 'se va', 'se van', 'se ve', 'se viene', 'sea', 'sean', 'seas', 'sebastian', 'secretaria', 'secretario', 'secreto', 'sector', 'sede', 'seguidores', 'seguimos', 'seguir', 'seguirme', 'seguirme en', 'seguirme en la', 'segun', 'segunda', 'segundo', 'seguridad', 'seguridad de', 'seguro', 'seguro que', 'seis', 'seleccion', 'semana', 'semana de', 'semana url', 'semanas', 'senado', 'senador', 'senal', 'senala', 'senda', 'senda trazada', 'senda trazada mention', 'senior', 'senor', 'senora', 'senores', 'sentencia', 'sentido', 'sentir', 'sentir de', 'sentir de unos', 'septiembre', 'ser', 'ser el', 'ser la', 'ser un', 'ser una', 'sera', 'sera el', 'seran', 'sergio', 'seria', 'serie', 'serie de', 'series', 'serio', 'servicio', 'servicio de', 'servicios', 'sesion', 'sevilla', 'sexo', 'sexual', 'show', 'si', 'si cae', 'si cae llegara', 'si el', 'si en', 'si eres', 'si es', 'si hay', 'si la', 'si lo', 'si los', 'si me', 'si no', 'si que', 'si quieres', 'si rebota', 'si rebota buscara', 'si sabes', 'si sabes de', 'si se', 'si te', 'si tu', 'sido', 'siempre', 'siendo', 'siente', 'siento', 'siete', 'siga', 'sigan', 'siglo', 'significa', 'sigo', 'sigue', 'sigue en', 'siguen', 'siguen por', 'siguen por la', 'sigues', 'siguiente', 'silencio', 'simple', 'simplemente', 'sin', 'sin duda', 'sino', 'siquiera', 'siria', 'sirve', 'sismo', 'sismo de', 'sismo de con', 'sismo en', 'sistema', 'sistema de', 'sistemas', 'sitio', 'situacion', 'so', 'sobre', 'sobre el', 'sobre la', 'sobre las', 'sobre los', 'sobre todo', 'sobreviniente', 'sobreviniente nind', 'social', 'sociales', 'socialismo', 'sociedad', 'software', 'sol', 'sola', 'solamente', 'solar', 'soledad', 'solicita', 'solicitas', 'solicitas esta', 'solicitas esta mal', 'solidaridad', 'solo', 'solo en', 'solo para', 'solo por', 'solo se', 'solo si', 'solo un', 'soltero', 'solucion', 'sombra', 'somos', 'son', 'son de', 'son las', 'son los', 'sonar', 'sonido', 'sonido de', 'sonido de unos', 'sonrisa', 'sony', 'sorpresa', 'sorteo', 'sos', 'soy', 'soy el', 'soy un', 'sr', 'sra', 'stack', 'star', 'stats', 'stats via', 'stats via url', 'su', 'su casa', 'su hijo', 'su vida', 'suarez', 'sube', 'subir', 'subira', 'sueldo', 'suelo', 'suena', 'sueno', 'suenos', 'suerte', 'suficiente', 'sufre', 'sufrir', 'suma', 'super', 'supera', 'superior', 'supremo', 'supuesto', 'sur', 'sur de', 'sus', 'sus hijos', 'ta', 'tal', 'tal vez', 'talento', 'tambien', 'tampoco', 'tan', 'tanta', 'tantas', 'tanto', 'tantos', 'tarde', 'tarde bueno', 'tarde bueno hashtag', 'tarde parcialmente', 'tarde parcialmente nublado', 'tarde tormentas', 'tarde tormentas electricas', 'tardes', 'tarea', 'te', 'te amo', 'te esta', 'te gusta', 'te hace', 'te lo', 'te mando', 'te quiero', 'teatro', 'techo', 'techo si', 'techo si cae', 'tecnico', 'tecnologia', 'telefono', 'telegram', 'telegram url', 'telegram url hashtag', 'television', 'tema', 'tema de', 'temas', 'temporada', 'temporada de', 'temprano', 'tendencia', 'tendra', 'tenemos', 'tenemos que', 'tener', 'tener que', 'tener un', 'tenes', 'tenga', 'tengan', 'tengas', 'tengo', 'tengo que', 'tenia', 'tenian', 'tenido', 'tercer', 'tercera', 'termina', 'terminar', 'termino', 'terremoto', 'terreno', 'terrible', 'terror', 'terrorismo', 'th', 'thank', 'thank you', 'that', 'the', 'the gamers', 'the gamers daily', 'the last', 'the past', 'the past day', 'the week', 'they', 'this', 'ti', 'tiempo', 'tiempo de', 'tiempo que', 'tiempos', 'tienda', 'tiene', 'tiene el', 'tiene la', 'tiene que', 'tiene un', 'tiene una', 'tienen', 'tienen que', 'tienen un', 'tienes', 'tienes que', 'tierra', 'time', 'times', 'tio', 'tipico', 'tipo', 'tipo de', 'tiro', 'tiroteo', 'titular', 'titulo', 'to', 'to enter', 'to win', 'toca', 'toda', 'toda la', 'todas', 'todas las', 'todas las ofertas', 'todavia', 'todavia no', 'todo', 'todo el', 'todo el dia', 'todo el mundo', 'todo en', 'todo es', 'todo lo', 'todo lo que', 'todo un', 'todos', 'todos los', 'todos los companeros', 'todos los dias', 'todos los que', 'toma', 'tomar', 'tomas', 'tomo', 'top', 'toque', 'tormentas', 'tormentas electricas', 'tormentas electricas hashtag', 'torneo', 'total', 'totalmente', 'trabaja', 'trabajadores', 'trabajando', 'trabajar', 'trabajo', 'trabajo de', 'trabajo url', 'trabajos', 'trae', 'trafico', 'trafico hashtag', 'trafico hashtag hashtag', 'trailer', 'transito', 'transporte', 'tras', 'tras el', 'tras la', 'trata', 'trata de', 'tratar', 'traves', 'traves de', 'trazada', 'trazada mention', 'trazada mention gracias', 'tremendo', 'tren', 'tres', 'tribunal', 'trimestre', 'triste', 'tristeza', 'triunfo', 'trump', 'tts', 'tts espana', 'tts espana hashtag', 'tu', 'tu cv', 'tu cv emoji', 'tu no', 'tu vida', 'tuit', 'tuits', 'turismo', 'turquia', 'tus', 'tuve', 'tuvo', 'tuya', 'tuyo', 'tv', 'tweet', 'tweets', 'twitter', 'ud', 'ud emoji', 'ud emoji emoji', 'ud emoji hashtag', 'ud url', 'ue', 'ultima', 'ultimas', 'ultimas hashtag', 'ultimas hashtag url', 'ultimo', 'ultimos', 'un', 'un abrazo', 'un acuerdo', 'un amigo', 'un ano', 'un atraco', 'un atraco url', 'un buen', 'un de', 'un dia', 'un gran', 'un grupo', 'un grupo de', 'un hashtag', 'un hombre', 'un libro', 'un mes', 'un nino', 'un nuevo', 'un pais', 'un par', 'un partido', 'un poco', 'un poco de', 'un rt', 'un solo', 'un url', 'un video', 'un vistazo', 'una', 'una buena', 'una cosa', 'una de', 'una de las', 'una foto', 'una gran', 'una mujer', 'una nueva', 'una persona', 'una semana', 'una vez', 'una vida', 'unas', 'une', 'unete', 'unete mention', 'unete mention estreno', 'unete mention url', 'unete mention video', 'unfollowed', 'unfollowed me', 'unfollowers', 'unica', 'unico', 'unico que', 'unidad', 'unido', 'unidos', 'union', 'universidad', 'universitario', 'universo', 'uno', 'uno de', 'uno de los', 'unos', 'up', 'urgente', 'uribe', 'url', 'url aplicaciones', 'url aplicaciones noticias', 'url asi', 'url by', 'url by hashtag', 'url como', 'url con', 'url cuando', 'url de', 'url el', 'url el observador', 'url el precio', 'url emoji', 'url emoji emoji', 'url en', 'url en adventistas', 'url en mention', 'url es', 'url este', 'url gracias', 'url gracias mention', 'url hashtag', 'url hashtag apartamento', 'url hashtag asi', 'url hashtag casa', 'url hashtag como', 'url hashtag departamento', 'url hashtag el', 'url hashtag en', 'url hashtag hashtag', 'url hashtag inf', 'url hashtag la', 'url hashtag las', 'url hashtag ll', 'url hashtag los', 'url hashtag mention', 'url hashtag muere', 'url hashtag que', 'url hashtag rt', 'url hashtag se', 'url hashtag un', 'url hashtag una', 'url hashtag url', 'url hay', 'url hoy', 'url https', 'url https rt', 'url la', 'url las', 'url lo', 'url los', 'url mas', 'url mas en', 'url me', 'url mention', 'url mention el', 'url mention emoji', 'url mention en', 'url mention esta', 'url mention hashtag', 'url mention la', 'url mention mention', 'url mention no', 'url mention rt', 'url mention url', 'url mi', 'url no', 'url para', 'url por', 'url por mention', 'url que', 'url reporte', 'url reporte del', 'url rt', 'url rt mention', 'url se', 'url se precisa', 'url si', 'url sismo', 'url sismo de', 'url te', 'url the', 'url un', 'url una', 'url unete', 'url unete mention', 'url url', 'url url el', 'url url en', 'url url hashtag', 'url url la', 'url url mention', 'url url rt', 'url url sismo', 'url url url', 'url via', 'url via mention', 'url video', 'url ya', 'url yo', 'uruguay', 'us', 'usa', 'usar', 'usgs', 'uso', 'uso de', 'usted', 'ustedes', 'usuarios', 'utc', 'utc url', 'uu', 'va', 'va ser', 'vacaciones', 'vacio', 'vale', 'valencia', 'valle', 'valor', 'valores', 'vamos', 'van', 'varias', 'varios', 'vas', 'vaya', 'vayan', 've', 'vea', 'vean', 'veces', 'veces ni', 'veces ni se', 'vecinos', 'vehiculos', 'vemos', 'ven', 'vende', 'vender', 'venezolana', 'venezolano', 'venezolanos', 'venezuela', 'venezuela url', 'venga', 'vengan', 'vengan degollando', 'vengan degollando mention', 'venir', 'venta', 'venta de', 'venta en', 'venta nalberdi', 'venta nalberdi ncompra', 'venta ncambios', 'venta ncambios chaco', 'venta nmaxicambios', 'venta nmaxicambios ncompra', 'ventas', 'veo', 'ver', 'ver el', 'ver la', 'ver que', 'ver si', 'verano', 'verdad', 'verdadera', 'verdadero', 'verde', 'verguenza', 'verlo', 'version', 'verte', 'ves', 'vestido', 'vez', 'vez de', 'vez en', 'vez mas', 'vez que', 'vi', 'via', 'via mention', 'via mention el', 'via mention hashtag', 'via mention mention', 'via mention rt', 'via mention url', 'via url', 'viajar', 'viaje', 'victima', 'victimas', 'victimas de', 'victor', 'victoria', 'vida', 'vida de', 'vida en', 'vida es', 'vida no', 'vida url', 'vidas', 'video', 'video de', 'video el', 'video oficial', 'video oficial url', 'video url', 'video url unete', 'videos', 'vieja', 'viejo', 'viejos', 'viendo', 'viene', 'vienen', 'viento', 'viernes', 'villa', 'vinilo', 'vinilo por', 'vinilo por url', 'vino', 'vio', 'violencia', 'violeta', 'vip', 'visita', 'vista', 'vistazo', 'viste', 'visto', 'viva', 'vive', 'viven', 'vivienda', 'vivir', 'vivo', 'vivo en', 'voluntad', 'volver', 'volvio', 'vos', 'vos todos', 'vos todos los', 'vosotros', 'vota', 'votar', 'voto', 'votos', 'vox', 'voy', 'voz', 'vs', 'vuelta', 'vuelto', 'vuelve', 'vuelven', 'want', 'was', 'washington', 'we', 'web', 'week', 'what', 'whatsapp', 'when', 'who', 'will', 'william', 'win', 'windows', 'winner', 'with', 'word', 'word of', 'word of the', 'world', 'worldwide', 'xa', 'xa url', 'xaleer', 'xd', 'xq', 'ya', 'ya en', 'ya es', 'ya esta', 'ya lo', 'ya me', 'ya no', 'ya que', 'ya se', 'ya te', 'yo', 'yo creo', 'yo me', 'yo no', 'yo quiero', 'yo soy', 'yo tambien', 'yo te', 'york', 'you', 'your', 'youtube', 'zona', 'zona de', 'ريتويت', '아이들', '여자아이들', '여자아이들 hashtag']\n"
     ]
    }
   ],
   "source": [
    "print(vec.get_feature_names())"
   ]
  },
  {
   "cell_type": "code",
   "execution_count": 10,
   "metadata": {},
   "outputs": [
    {
     "name": "stdout",
     "output_type": "stream",
     "text": [
      "[[0 1 0 ... 0 0 0]\n",
      " [0 0 0 ... 0 0 0]\n",
      " [0 0 0 ... 0 0 0]\n",
      " ...\n",
      " [0 0 0 ... 0 0 0]\n",
      " [0 0 0 ... 0 0 0]\n",
      " [0 0 0 ... 0 0 0]]\n"
     ]
    }
   ],
   "source": [
    "print(x_train.toarray())"
   ]
  },
  {
   "cell_type": "markdown",
   "metadata": {},
   "source": [
    "# RandomOverSampler"
   ]
  },
  {
   "cell_type": "code",
   "execution_count": 11,
   "metadata": {},
   "outputs": [
    {
     "name": "stdout",
     "output_type": "stream",
     "text": [
      "**RandomOverSampler train: [(0, 1059), (1, 1059)]\n",
      "**RandomOverSampler test: [(0, 459), (1, 459)]\n"
     ]
    }
   ],
   "source": [
    "ros = RandomOverSampler(random_state=1000)\n",
    "x_train, y_train = ros.fit_resample(x_train, y_train)\n",
    "x_test, y_test = ros.fit_resample(x_test, y_test)\n",
    "print('**RandomOverSampler train:', sorted(Counter(y_train).items()))\n",
    "print('**RandomOverSampler test:', sorted(Counter(y_test).items()))"
   ]
  },
  {
   "cell_type": "code",
   "execution_count": 12,
   "metadata": {},
   "outputs": [
    {
     "name": "stderr",
     "output_type": "stream",
     "text": [
      "c:\\python38\\lib\\site-packages\\sklearn\\linear_model\\_logistic.py:762: ConvergenceWarning: lbfgs failed to converge (status=1):\n",
      "STOP: TOTAL NO. of ITERATIONS REACHED LIMIT.\n",
      "\n",
      "Increase the number of iterations (max_iter) or scale the data as shown in:\n",
      "    https://scikit-learn.org/stable/modules/preprocessing.html\n",
      "Please also refer to the documentation for alternative solver options:\n",
      "    https://scikit-learn.org/stable/modules/linear_model.html#logistic-regression\n",
      "  n_iter_i = _check_optimize_result(\n"
     ]
    }
   ],
   "source": [
    "classifier = LogisticRegression(C=10, solver='lbfgs', multi_class='multinomial',max_iter=1000) \n",
    "classifier.fit(x_train, y_train)\n",
    "y_pred = classifier.predict(x_test)"
   ]
  },
  {
   "cell_type": "markdown",
   "metadata": {},
   "source": [
    "# Metrics"
   ]
  },
  {
   "cell_type": "code",
   "execution_count": 13,
   "metadata": {},
   "outputs": [
    {
     "name": "stdout",
     "output_type": "stream",
     "text": [
      "[[430  29]\n",
      " [  9 450]]\n",
      "              precision    recall  f1-score   support\n",
      "\n",
      "           0       0.98      0.94      0.96       459\n",
      "           1       0.94      0.98      0.96       459\n",
      "\n",
      "    accuracy                           0.96       918\n",
      "   macro avg       0.96      0.96      0.96       918\n",
      "weighted avg       0.96      0.96      0.96       918\n",
      "\n"
     ]
    },
    {
     "name": "stderr",
     "output_type": "stream",
     "text": [
      "c:\\python38\\lib\\site-packages\\sklearn\\linear_model\\_logistic.py:762: ConvergenceWarning: lbfgs failed to converge (status=1):\n",
      "STOP: TOTAL NO. of ITERATIONS REACHED LIMIT.\n",
      "\n",
      "Increase the number of iterations (max_iter) or scale the data as shown in:\n",
      "    https://scikit-learn.org/stable/modules/preprocessing.html\n",
      "Please also refer to the documentation for alternative solver options:\n",
      "    https://scikit-learn.org/stable/modules/linear_model.html#logistic-regression\n",
      "  n_iter_i = _check_optimize_result(\n",
      "c:\\python38\\lib\\site-packages\\sklearn\\linear_model\\_logistic.py:762: ConvergenceWarning: lbfgs failed to converge (status=1):\n",
      "STOP: TOTAL NO. of ITERATIONS REACHED LIMIT.\n",
      "\n",
      "Increase the number of iterations (max_iter) or scale the data as shown in:\n",
      "    https://scikit-learn.org/stable/modules/preprocessing.html\n",
      "Please also refer to the documentation for alternative solver options:\n",
      "    https://scikit-learn.org/stable/modules/linear_model.html#logistic-regression\n",
      "  n_iter_i = _check_optimize_result(\n"
     ]
    }
   ],
   "source": [
    "print(confusion_matrix(y_test, y_pred))\n",
    "print(classification_report(y_test, y_pred))\n",
    "\n",
    "cv_score = np.mean(cross_val_score(classifier, x_train, y_train, cv=5, scoring='accuracy'))"
   ]
  },
  {
   "cell_type": "code",
   "execution_count": 14,
   "metadata": {},
   "outputs": [
    {
     "name": "stdout",
     "output_type": "stream",
     "text": [
      "Accuracy: 96.0%\n",
      "Recall: 96.0%\n",
      "Precision: 96.0%\n",
      "F1: 96.0%\n"
     ]
    }
   ],
   "source": [
    "accuracy = accuracy_score(y_test, y_pred)\n",
    "recall = recall_score(y_test, y_pred, average='macro')\n",
    "precision = precision_score(y_test, y_pred, average='weighted')\n",
    "f1 = f1_score(y_test, y_pred, average='weighted')\n",
    "print('Accuracy: {}%'.format(round(accuracy, 2)*100))\n",
    "print('Recall: {}%'.format(round(recall, 2)*100))\n",
    "print('Precision: {}%'.format(round(precision, 2)*100))\n",
    "print('F1: {}%'.format(round(f1, 2)*100))"
   ]
  },
  {
   "cell_type": "code",
   "execution_count": null,
   "metadata": {},
   "outputs": [],
   "source": []
  }
 ],
 "metadata": {
  "kernelspec": {
   "display_name": "Python 3",
   "language": "python",
   "name": "python3"
  },
  "language_info": {
   "codemirror_mode": {
    "name": "ipython",
    "version": 3
   },
   "file_extension": ".py",
   "mimetype": "text/x-python",
   "name": "python",
   "nbconvert_exporter": "python",
   "pygments_lexer": "ipython3",
   "version": "3.8.5"
  }
 },
 "nbformat": 4,
 "nbformat_minor": 4
}
